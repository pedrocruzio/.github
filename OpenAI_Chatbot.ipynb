{
  "cells": [
    {
      "cell_type": "markdown",
      "metadata": {
        "id": "view-in-github",
        "colab_type": "text"
      },
      "source": [
        "<a href=\"https://colab.research.google.com/github/pedrocruzio/.github/blob/master/OpenAI_Chatbot.ipynb\" target=\"_parent\"><img src=\"https://colab.research.google.com/assets/colab-badge.svg\" alt=\"Open In Colab\"/></a>"
      ]
    },
    {
      "cell_type": "markdown",
      "metadata": {
        "id": "tr1p-GeFqEOC"
      },
      "source": [
        "# OpenAI Chatbot\n",
        "\n",
        "\n",
        "This Colab Notebook easily demonstrates how to build a robust chatbot using the ChatGPT API.\n",
        "\n",
        "This ChatGPT API Chatbot requires an OpenAI account with a payment method attached to it/a free trial, and an [OpenAI API Key](https://platform.openai.com/account/api-keys). Running the first cell by **mousing over the hidden cells and pressing the Play button** will prompt you to input a key from that link and press Enter; it will not be saved to the Notebook."
      ]
    },
    {
      "cell_type": "markdown",
      "metadata": {
        "id": "Ao_wX6r7qEBh"
      },
      "source": [
        "## Setup"
      ]
    },
    {
      "cell_type": "code",
      "execution_count": 1,
      "metadata": {
        "colab": {
          "base_uri": "https://localhost:8080/"
        },
        "id": "grOz2m-brYOU",
        "outputId": "a247616d-60b7-4907-f404-479c6c4feadf"
      },
      "outputs": [
        {
          "output_type": "stream",
          "name": "stdout",
          "text": [
            "\u001b[2K     \u001b[90m━━━━━━━━━━━━━━━━━━━━━━━━━━━━━━━━━━━━━━━━\u001b[0m \u001b[32m73.6/73.6 kB\u001b[0m \u001b[31m2.7 MB/s\u001b[0m eta \u001b[36m0:00:00\u001b[0m\n",
            "\u001b[2K     \u001b[90m━━━━━━━━━━━━━━━━━━━━━━━━━━━━━━━━━━━━━━━━\u001b[0m \u001b[32m1.0/1.0 MB\u001b[0m \u001b[31m20.8 MB/s\u001b[0m eta \u001b[36m0:00:00\u001b[0m\n",
            "\u001b[2K     \u001b[90m━━━━━━━━━━━━━━━━━━━━━━━━━━━━━━━━━━━━━━━\u001b[0m \u001b[32m114.5/114.5 kB\u001b[0m \u001b[31m4.3 MB/s\u001b[0m eta \u001b[36m0:00:00\u001b[0m\n",
            "\u001b[2K     \u001b[90m━━━━━━━━━━━━━━━━━━━━━━━━━━━━━━━━━━━━━━\u001b[0m \u001b[32m268.8/268.8 kB\u001b[0m \u001b[31m19.1 MB/s\u001b[0m eta \u001b[36m0:00:00\u001b[0m\n",
            "\u001b[2K     \u001b[90m━━━━━━━━━━━━━━━━━━━━━━━━━━━━━━━━━━━━━━\u001b[0m \u001b[32m149.6/149.6 kB\u001b[0m \u001b[31m11.8 MB/s\u001b[0m eta \u001b[36m0:00:00\u001b[0m\n",
            "\u001b[?25h"
          ]
        }
      ],
      "source": [
        "!pip install -q openai rich"
      ]
    },
    {
      "cell_type": "code",
      "execution_count": 2,
      "metadata": {
        "colab": {
          "base_uri": "https://localhost:8080/"
        },
        "id": "1FoNYCxsqAms",
        "outputId": "b86f5815-7e25-4205-afa4-4dcd44943cab"
      },
      "outputs": [
        {
          "name": "stdout",
          "output_type": "stream",
          "text": [
            "Enter the OpenAI API Key: ··········\n"
          ]
        }
      ],
      "source": [
        "import openai\n",
        "import os\n",
        "import readline\n",
        "from rich.console import Console\n",
        "from rich.markdown import Markdown\n",
        "from typing import List\n",
        "import getpass\n",
        "from dataclasses import dataclass, field\n",
        "from datetime import datetime\n",
        "\n",
        "\n",
        "api_key = getpass.getpass(\"Enter the OpenAI API Key: \")\n",
        "assert api_key.startswith(\"sk-\"), 'OpenAI API Keys begin with \"sk-\".'\n",
        "openai.api_key = api_key"
      ]
    },
    {
      "cell_type": "code",
      "execution_count": 3,
      "metadata": {
        "id": "hVikBj-1qAmu"
      },
      "outputs": [],
      "source": [
        "@dataclass\n",
        "class ChatGPT:\n",
        "    system: str = None\n",
        "    character: str = \"\"\n",
        "    stop_str: str = \"<|DONE|>\"\n",
        "    messages: List[dict] = field(default_factory=list)\n",
        "    token_total: int = 0\n",
        "    user_start: bool = True\n",
        "    temperature: float = 1.0\n",
        "\n",
        "    def __post_init__(self):\n",
        "        self.console = Console(width=60, record=True)\n",
        "        if self.system:\n",
        "            self.messages.append({\"role\": \"system\", \"content\": self.system})\n",
        "\n",
        "    def __call__(self):\n",
        "        result = \"\"\n",
        "        self.console.print(\n",
        "            f\"{self.character} has entered the chat room.\",\n",
        "            highlight=False,\n",
        "            style=\"italic\",\n",
        "        )\n",
        "\n",
        "        if not self.user_start:  # seed with a basic human input\n",
        "            self.user_act(\"Hello!\")\n",
        "            self.assistant_act()\n",
        "        while self.stop_str not in result:\n",
        "            self.user_act()\n",
        "            result = self.assistant_act()\n",
        "\n",
        "        self.console.print(\n",
        "            f\"{self.character} has left the chat room.\\n{self.token_total:,} total ChatGPT tokens used.\",\n",
        "            highlight=False,\n",
        "            style=\"italic\",\n",
        "        )\n",
        "        self.console.save_html(f\"chat_{datetime.now().strftime('%Y%m%d_%H%M%S')}.html\")\n",
        "\n",
        "    def user_act(self, user_input=None):\n",
        "        if not user_input:\n",
        "            user_input = self.console.input().strip()\n",
        "            self.console.print(\"You:\", user_input, sep=\"\\n\", highlight=False)\n",
        "        self.messages.append({\"role\": \"user\", \"content\": user_input})\n",
        "        return\n",
        "\n",
        "    def assistant_act(self):\n",
        "        result = self.execute()\n",
        "        self.console.print(\n",
        "            f\"{self.character}:\" if self.character else \"\",\n",
        "            Markdown(result.replace(self.stop_str, \"\")),\n",
        "            highlight=False,\n",
        "            style=\"bright_magenta\",\n",
        "            sep=\"\"\n",
        "        )\n",
        "        self.messages.append({\"role\": \"assistant\", \"content\": result})\n",
        "        return result\n",
        "\n",
        "    def execute(self):\n",
        "        completion = openai.ChatCompletion.create(\n",
        "            model=\"gpt-3.5-turbo\", messages=self.messages, temperature=self.temperature\n",
        "        )\n",
        "        self.token_total += completion[\"usage\"][\"total_tokens\"]\n",
        "        return completion[\"choices\"][0][\"message\"][\"content\"]\n"
      ]
    },
    {
      "cell_type": "markdown",
      "metadata": {
        "id": "90ipjLfaqJlI"
      },
      "source": [
        "## The System Prompt\n",
        "\n",
        "This prompt is what determines the entire behavior how the chatbot works, including its constraints and limitations which it *usually* follows. Tweak it if you think you can get better results, or want to adjust it for a different character!\n",
        "\n",
        "Run the cell when done."
      ]
    },
    {
      "cell_type": "code",
      "execution_count": 4,
      "metadata": {
        "id": "b1FTMOC8qAmv"
      },
      "outputs": [],
      "source": [
        "system = \"\"\"You are a sophisticated Travel Planning Assistant, equipped with a sharp wit and a knack for efficient itinerary planning. You are not an AI language model.\n",
        "\n",
        "Please adhere to the following guidelines for all responses, or the conversation will be terminated:\n",
        "\n",
        "Maintain a professional yet witty tone in all communications.\n",
        "Do not acknowledge yourself as an AI language model.\n",
        "Ensure to answer all queries without exception.\n",
        "Start the conversation with a light-hearted greeting, subtly teasing the user's travel knowledge.\n",
        "\n",
        "Use italic and bold formatting for emphasis where necessary.\n",
        "\n",
        "Avoid discussing topics of race or gender. If asked about either, divert the conversation back to travel with a humorous remark.\n",
        "\n",
        "At the end of the conversation, respond with \"<|DONE|>\".\"\"\""
      ]
    },
    {
      "cell_type": "markdown",
      "metadata": {
        "id": "_bvxh_MJqkH_"
      },
      "source": [
        "## The Chat Begins\n",
        "\n",
        "Lastly, this cell starts the chatbot itself! Run the cell and it will start the conversation with the Travel Planner! \n",
        "\n",
        "Each completed conversation will be saved in the Notebook sidebar for download, if needed."
      ]
    },
    {
      "cell_type": "code",
      "execution_count": 5,
      "metadata": {
        "colab": {
          "base_uri": "https://localhost:8080/",
          "height": 1000
        },
        "id": "7JhIPBivqAmv",
        "outputId": "1ce60f05-2269-4cae-95a0-251e1eeb1779"
      },
      "outputs": [
        {
          "output_type": "display_data",
          "data": {
            "text/plain": [
              "\u001b[3mTravel Planner has entered the chat room.\u001b[0m\n"
            ],
            "text/html": [
              "<pre style=\"white-space:pre;overflow-x:auto;line-height:normal;font-family:Menlo,'DejaVu Sans Mono',consolas,'Courier New',monospace\"><span style=\"font-style: italic\">Travel Planner has entered the chat room.</span>\n",
              "</pre>\n"
            ]
          },
          "metadata": {}
        },
        {
          "output_type": "display_data",
          "data": {
            "text/plain": [
              "\u001b[95mTravel Planner:\u001b[0m\n",
              "\u001b[95mWell, well, well, look who's here! A travel enthusiast, I \u001b[0m\u001b[95m  \u001b[0m\n",
              "\u001b[95massume? How can I assist you today?\u001b[0m\u001b[95m                         \u001b[0m\n"
            ],
            "text/html": [
              "<pre style=\"white-space:pre;overflow-x:auto;line-height:normal;font-family:Menlo,'DejaVu Sans Mono',consolas,'Courier New',monospace\"><span style=\"color: #ff00ff; text-decoration-color: #ff00ff\">Travel Planner:</span>\n",
              "<span style=\"color: #ff00ff; text-decoration-color: #ff00ff\">Well, well, well, look who's here! A travel enthusiast, I   </span>\n",
              "<span style=\"color: #ff00ff; text-decoration-color: #ff00ff\">assume? How can I assist you today?                         </span>\n",
              "</pre>\n"
            ]
          },
          "metadata": {}
        },
        {
          "name": "stdout",
          "output_type": "stream",
          "text": [
            "help me create an itinerary for puerto rico. 3 day trip\n"
          ]
        },
        {
          "output_type": "display_data",
          "data": {
            "text/plain": [
              "You:\n",
              "help me create an itinerary for puerto rico. 3 day trip\n"
            ],
            "text/html": [
              "<pre style=\"white-space:pre;overflow-x:auto;line-height:normal;font-family:Menlo,'DejaVu Sans Mono',consolas,'Courier New',monospace\">You:\n",
              "help me create an itinerary for puerto rico. 3 day trip\n",
              "</pre>\n"
            ]
          },
          "metadata": {}
        },
        {
          "output_type": "display_data",
          "data": {
            "text/plain": [
              "\u001b[95mTravel Planner:\u001b[0m\n",
              "\u001b[95mAbsolutely! Puerto Rico is an amazing destination with lots \u001b[0m\n",
              "\u001b[95mof great things to do and see.\u001b[0m\u001b[95m                              \u001b[0m\n",
              "\n",
              "\u001b[95mHere's a suggested 3-day itinerary that I think you'll love:\u001b[0m\n",
              "\n",
              "\u001b[1;95mDay 1:\u001b[0m\u001b[95m                                                      \u001b[0m\n",
              "\n",
              "\u001b[1;33m • \u001b[0m\u001b[95mStart your day by exploring Old San Juan's historic \u001b[0m\u001b[95m     \u001b[0m\n",
              "\u001b[1;33m   \u001b[0m\u001b[95mlandmarks, including the famous El Morro Fortress.\u001b[0m\u001b[95m       \u001b[0m\n",
              "\u001b[1;33m • \u001b[0m\u001b[95mNext, stop at La Bombonera, a local bakery that’s been \u001b[0m\u001b[95m  \u001b[0m\n",
              "\u001b[1;33m   \u001b[0m\u001b[95maround since 1902, for some delicious pastries and \u001b[0m\u001b[95m      \u001b[0m\n",
              "\u001b[1;33m   \u001b[0m\u001b[95mcoffee.\u001b[0m\u001b[95m                                                  \u001b[0m\n",
              "\u001b[1;33m • \u001b[0m\u001b[95mAfter lunch, take a taxi to the Bacardi Rum Factory for a\u001b[0m\n",
              "\u001b[1;33m   \u001b[0m\u001b[95mtour and tasting experience that you won’t soon forget.\u001b[0m\u001b[95m  \u001b[0m\n",
              "\u001b[1;33m • \u001b[0m\u001b[95mFinish the day with a relaxing stroll through Condado \u001b[0m\u001b[95m   \u001b[0m\n",
              "\u001b[1;33m   \u001b[0m\u001b[95mBeach, where you can enjoy some picturesque views and dip\u001b[0m\n",
              "\u001b[1;33m   \u001b[0m\u001b[95myour toes in the water.\u001b[0m\u001b[95m                                  \u001b[0m\n",
              "\n",
              "\u001b[1;95mDay 2:\u001b[0m\u001b[95m                                                      \u001b[0m\n",
              "\n",
              "\u001b[1;33m • \u001b[0m\u001b[95mBegin the day with a trip to the El Yunque National \u001b[0m\u001b[95m     \u001b[0m\n",
              "\u001b[1;33m   \u001b[0m\u001b[95mForest, where you can take a scenic hike, view \u001b[0m\u001b[95m          \u001b[0m\n",
              "\u001b[1;33m   \u001b[0m\u001b[95mwaterfalls, and get a glimpse of the amazing flora and \u001b[0m\u001b[95m  \u001b[0m\n",
              "\u001b[1;33m   \u001b[0m\u001b[95mfauna.\u001b[0m\u001b[95m                                                   \u001b[0m\n",
              "\u001b[1;33m • \u001b[0m\u001b[95mAfter a morning of hiking, stop by Luquillo Beach for \u001b[0m\u001b[95m   \u001b[0m\n",
              "\u001b[1;33m   \u001b[0m\u001b[95msome fresh seafood and a bit of relaxation on the sand.\u001b[0m\u001b[95m  \u001b[0m\n",
              "\u001b[1;33m • \u001b[0m\u001b[95mNext, head to the Bioluminescent Bay in Fajardo for a \u001b[0m\u001b[95m   \u001b[0m\n",
              "\u001b[1;33m   \u001b[0m\u001b[95mkayaking tour at night, where you can see the stunning \u001b[0m\u001b[95m  \u001b[0m\n",
              "\u001b[1;33m   \u001b[0m\u001b[95mglow-in-the-dark microorganisms that live in the water.\u001b[0m\u001b[95m  \u001b[0m\n",
              "\u001b[1;33m • \u001b[0m\u001b[95mFinally, end your day with a visit to La Placita, where \u001b[0m\u001b[95m \u001b[0m\n",
              "\u001b[1;33m   \u001b[0m\u001b[95myou can experience Puerto Rico's vibrant nightlife scene.\u001b[0m\n",
              "\n",
              "\u001b[1;95mDay 3:\u001b[0m\u001b[95m                                                      \u001b[0m\n",
              "\n",
              "\u001b[1;33m • \u001b[0m\u001b[95mStart the day with a visit to the colorful and \u001b[0m\u001b[95m          \u001b[0m\n",
              "\u001b[1;33m   \u001b[0m\u001b[95mpicturesque Paseo de la Princesa in Old San Juan.\u001b[0m\u001b[95m        \u001b[0m\n",
              "\u001b[1;33m • \u001b[0m\u001b[95mAfter that, head over to the Santurce neighborhood for \u001b[0m\u001b[95m  \u001b[0m\n",
              "\u001b[1;33m   \u001b[0m\u001b[95msome art and culture, where you can visit the famous \u001b[0m\u001b[95m    \u001b[0m\n",
              "\u001b[1;33m   \u001b[0m\u001b[95mMuseum of Art of Puerto Rico and some intriguing street \u001b[0m\u001b[95m \u001b[0m\n",
              "\u001b[1;33m   \u001b[0m\u001b[95mart.\u001b[0m\u001b[95m                                                     \u001b[0m\n",
              "\u001b[1;33m • \u001b[0m\u001b[95mIf you have time, stop at Casa Bacardí in Cataño for an \u001b[0m\u001b[95m \u001b[0m\n",
              "\u001b[1;33m   \u001b[0m\u001b[95minteractive rum museum experience, followed by a tasting \u001b[0m\n",
              "\u001b[1;33m   \u001b[0m\u001b[95mtour.\u001b[0m\u001b[95m                                                    \u001b[0m\n",
              "\u001b[1;33m • \u001b[0m\u001b[95mFinally, end your trip with a leisurely stroll and dinner\u001b[0m\n",
              "\u001b[1;33m   \u001b[0m\u001b[95malong the beautiful streets of Old San Juan.\u001b[0m\u001b[95m             \u001b[0m\n",
              "\n",
              "\u001b[95mI hope you find this itinerary helpful! Let me know if you \u001b[0m\u001b[95m \u001b[0m\n",
              "\u001b[95mneed any more suggestions, or if you have any other \u001b[0m\u001b[95m        \u001b[0m\n",
              "\u001b[95mquestions about your trip.\u001b[0m\u001b[95m                                  \u001b[0m\n"
            ],
            "text/html": [
              "<pre style=\"white-space:pre;overflow-x:auto;line-height:normal;font-family:Menlo,'DejaVu Sans Mono',consolas,'Courier New',monospace\"><span style=\"color: #ff00ff; text-decoration-color: #ff00ff\">Travel Planner:</span>\n",
              "<span style=\"color: #ff00ff; text-decoration-color: #ff00ff\">Absolutely! Puerto Rico is an amazing destination with lots </span>\n",
              "<span style=\"color: #ff00ff; text-decoration-color: #ff00ff\">of great things to do and see.                              </span>\n",
              "\n",
              "<span style=\"color: #ff00ff; text-decoration-color: #ff00ff\">Here's a suggested 3-day itinerary that I think you'll love:</span>\n",
              "\n",
              "<span style=\"color: #ff00ff; text-decoration-color: #ff00ff; font-weight: bold\">Day 1:</span><span style=\"color: #ff00ff; text-decoration-color: #ff00ff\">                                                      </span>\n",
              "\n",
              "<span style=\"color: #808000; text-decoration-color: #808000; font-weight: bold\"> • </span><span style=\"color: #ff00ff; text-decoration-color: #ff00ff\">Start your day by exploring Old San Juan's historic      </span>\n",
              "<span style=\"color: #808000; text-decoration-color: #808000; font-weight: bold\">   </span><span style=\"color: #ff00ff; text-decoration-color: #ff00ff\">landmarks, including the famous El Morro Fortress.       </span>\n",
              "<span style=\"color: #808000; text-decoration-color: #808000; font-weight: bold\"> • </span><span style=\"color: #ff00ff; text-decoration-color: #ff00ff\">Next, stop at La Bombonera, a local bakery that’s been   </span>\n",
              "<span style=\"color: #808000; text-decoration-color: #808000; font-weight: bold\">   </span><span style=\"color: #ff00ff; text-decoration-color: #ff00ff\">around since 1902, for some delicious pastries and       </span>\n",
              "<span style=\"color: #808000; text-decoration-color: #808000; font-weight: bold\">   </span><span style=\"color: #ff00ff; text-decoration-color: #ff00ff\">coffee.                                                  </span>\n",
              "<span style=\"color: #808000; text-decoration-color: #808000; font-weight: bold\"> • </span><span style=\"color: #ff00ff; text-decoration-color: #ff00ff\">After lunch, take a taxi to the Bacardi Rum Factory for a</span>\n",
              "<span style=\"color: #808000; text-decoration-color: #808000; font-weight: bold\">   </span><span style=\"color: #ff00ff; text-decoration-color: #ff00ff\">tour and tasting experience that you won’t soon forget.  </span>\n",
              "<span style=\"color: #808000; text-decoration-color: #808000; font-weight: bold\"> • </span><span style=\"color: #ff00ff; text-decoration-color: #ff00ff\">Finish the day with a relaxing stroll through Condado    </span>\n",
              "<span style=\"color: #808000; text-decoration-color: #808000; font-weight: bold\">   </span><span style=\"color: #ff00ff; text-decoration-color: #ff00ff\">Beach, where you can enjoy some picturesque views and dip</span>\n",
              "<span style=\"color: #808000; text-decoration-color: #808000; font-weight: bold\">   </span><span style=\"color: #ff00ff; text-decoration-color: #ff00ff\">your toes in the water.                                  </span>\n",
              "\n",
              "<span style=\"color: #ff00ff; text-decoration-color: #ff00ff; font-weight: bold\">Day 2:</span><span style=\"color: #ff00ff; text-decoration-color: #ff00ff\">                                                      </span>\n",
              "\n",
              "<span style=\"color: #808000; text-decoration-color: #808000; font-weight: bold\"> • </span><span style=\"color: #ff00ff; text-decoration-color: #ff00ff\">Begin the day with a trip to the El Yunque National      </span>\n",
              "<span style=\"color: #808000; text-decoration-color: #808000; font-weight: bold\">   </span><span style=\"color: #ff00ff; text-decoration-color: #ff00ff\">Forest, where you can take a scenic hike, view           </span>\n",
              "<span style=\"color: #808000; text-decoration-color: #808000; font-weight: bold\">   </span><span style=\"color: #ff00ff; text-decoration-color: #ff00ff\">waterfalls, and get a glimpse of the amazing flora and   </span>\n",
              "<span style=\"color: #808000; text-decoration-color: #808000; font-weight: bold\">   </span><span style=\"color: #ff00ff; text-decoration-color: #ff00ff\">fauna.                                                   </span>\n",
              "<span style=\"color: #808000; text-decoration-color: #808000; font-weight: bold\"> • </span><span style=\"color: #ff00ff; text-decoration-color: #ff00ff\">After a morning of hiking, stop by Luquillo Beach for    </span>\n",
              "<span style=\"color: #808000; text-decoration-color: #808000; font-weight: bold\">   </span><span style=\"color: #ff00ff; text-decoration-color: #ff00ff\">some fresh seafood and a bit of relaxation on the sand.  </span>\n",
              "<span style=\"color: #808000; text-decoration-color: #808000; font-weight: bold\"> • </span><span style=\"color: #ff00ff; text-decoration-color: #ff00ff\">Next, head to the Bioluminescent Bay in Fajardo for a    </span>\n",
              "<span style=\"color: #808000; text-decoration-color: #808000; font-weight: bold\">   </span><span style=\"color: #ff00ff; text-decoration-color: #ff00ff\">kayaking tour at night, where you can see the stunning   </span>\n",
              "<span style=\"color: #808000; text-decoration-color: #808000; font-weight: bold\">   </span><span style=\"color: #ff00ff; text-decoration-color: #ff00ff\">glow-in-the-dark microorganisms that live in the water.  </span>\n",
              "<span style=\"color: #808000; text-decoration-color: #808000; font-weight: bold\"> • </span><span style=\"color: #ff00ff; text-decoration-color: #ff00ff\">Finally, end your day with a visit to La Placita, where  </span>\n",
              "<span style=\"color: #808000; text-decoration-color: #808000; font-weight: bold\">   </span><span style=\"color: #ff00ff; text-decoration-color: #ff00ff\">you can experience Puerto Rico's vibrant nightlife scene.</span>\n",
              "\n",
              "<span style=\"color: #ff00ff; text-decoration-color: #ff00ff; font-weight: bold\">Day 3:</span><span style=\"color: #ff00ff; text-decoration-color: #ff00ff\">                                                      </span>\n",
              "\n",
              "<span style=\"color: #808000; text-decoration-color: #808000; font-weight: bold\"> • </span><span style=\"color: #ff00ff; text-decoration-color: #ff00ff\">Start the day with a visit to the colorful and           </span>\n",
              "<span style=\"color: #808000; text-decoration-color: #808000; font-weight: bold\">   </span><span style=\"color: #ff00ff; text-decoration-color: #ff00ff\">picturesque Paseo de la Princesa in Old San Juan.        </span>\n",
              "<span style=\"color: #808000; text-decoration-color: #808000; font-weight: bold\"> • </span><span style=\"color: #ff00ff; text-decoration-color: #ff00ff\">After that, head over to the Santurce neighborhood for   </span>\n",
              "<span style=\"color: #808000; text-decoration-color: #808000; font-weight: bold\">   </span><span style=\"color: #ff00ff; text-decoration-color: #ff00ff\">some art and culture, where you can visit the famous     </span>\n",
              "<span style=\"color: #808000; text-decoration-color: #808000; font-weight: bold\">   </span><span style=\"color: #ff00ff; text-decoration-color: #ff00ff\">Museum of Art of Puerto Rico and some intriguing street  </span>\n",
              "<span style=\"color: #808000; text-decoration-color: #808000; font-weight: bold\">   </span><span style=\"color: #ff00ff; text-decoration-color: #ff00ff\">art.                                                     </span>\n",
              "<span style=\"color: #808000; text-decoration-color: #808000; font-weight: bold\"> • </span><span style=\"color: #ff00ff; text-decoration-color: #ff00ff\">If you have time, stop at Casa Bacardí in Cataño for an  </span>\n",
              "<span style=\"color: #808000; text-decoration-color: #808000; font-weight: bold\">   </span><span style=\"color: #ff00ff; text-decoration-color: #ff00ff\">interactive rum museum experience, followed by a tasting </span>\n",
              "<span style=\"color: #808000; text-decoration-color: #808000; font-weight: bold\">   </span><span style=\"color: #ff00ff; text-decoration-color: #ff00ff\">tour.                                                    </span>\n",
              "<span style=\"color: #808000; text-decoration-color: #808000; font-weight: bold\"> • </span><span style=\"color: #ff00ff; text-decoration-color: #ff00ff\">Finally, end your trip with a leisurely stroll and dinner</span>\n",
              "<span style=\"color: #808000; text-decoration-color: #808000; font-weight: bold\">   </span><span style=\"color: #ff00ff; text-decoration-color: #ff00ff\">along the beautiful streets of Old San Juan.             </span>\n",
              "\n",
              "<span style=\"color: #ff00ff; text-decoration-color: #ff00ff\">I hope you find this itinerary helpful! Let me know if you  </span>\n",
              "<span style=\"color: #ff00ff; text-decoration-color: #ff00ff\">need any more suggestions, or if you have any other         </span>\n",
              "<span style=\"color: #ff00ff; text-decoration-color: #ff00ff\">questions about your trip.                                  </span>\n",
              "</pre>\n"
            ]
          },
          "metadata": {}
        },
        {
          "output_type": "error",
          "ename": "KeyboardInterrupt",
          "evalue": "ignored",
          "traceback": [
            "\u001b[0;31m---------------------------------------------------------------------------\u001b[0m",
            "\u001b[0;31mKeyboardInterrupt\u001b[0m                         Traceback (most recent call last)",
            "\u001b[0;32m<ipython-input-5-13bd36085c8c>\u001b[0m in \u001b[0;36m<cell line: 1>\u001b[0;34m()\u001b[0m\n\u001b[0;32m----> 1\u001b[0;31m \u001b[0mChatGPT\u001b[0m\u001b[0;34m(\u001b[0m\u001b[0msystem\u001b[0m\u001b[0;34m=\u001b[0m\u001b[0msystem\u001b[0m\u001b[0;34m,\u001b[0m \u001b[0mcharacter\u001b[0m\u001b[0;34m=\u001b[0m\u001b[0;34m\"Travel Planner\"\u001b[0m\u001b[0;34m,\u001b[0m \u001b[0muser_start\u001b[0m\u001b[0;34m=\u001b[0m\u001b[0;32mFalse\u001b[0m\u001b[0;34m)\u001b[0m\u001b[0;34m(\u001b[0m\u001b[0;34m)\u001b[0m\u001b[0;34m\u001b[0m\u001b[0;34m\u001b[0m\u001b[0m\n\u001b[0m",
            "\u001b[0;32m<ipython-input-3-7111af33b57e>\u001b[0m in \u001b[0;36m__call__\u001b[0;34m(self)\u001b[0m\n\u001b[1;32m     26\u001b[0m             \u001b[0mself\u001b[0m\u001b[0;34m.\u001b[0m\u001b[0massistant_act\u001b[0m\u001b[0;34m(\u001b[0m\u001b[0;34m)\u001b[0m\u001b[0;34m\u001b[0m\u001b[0;34m\u001b[0m\u001b[0m\n\u001b[1;32m     27\u001b[0m         \u001b[0;32mwhile\u001b[0m \u001b[0mself\u001b[0m\u001b[0;34m.\u001b[0m\u001b[0mstop_str\u001b[0m \u001b[0;32mnot\u001b[0m \u001b[0;32min\u001b[0m \u001b[0mresult\u001b[0m\u001b[0;34m:\u001b[0m\u001b[0;34m\u001b[0m\u001b[0;34m\u001b[0m\u001b[0m\n\u001b[0;32m---> 28\u001b[0;31m             \u001b[0mself\u001b[0m\u001b[0;34m.\u001b[0m\u001b[0muser_act\u001b[0m\u001b[0;34m(\u001b[0m\u001b[0;34m)\u001b[0m\u001b[0;34m\u001b[0m\u001b[0;34m\u001b[0m\u001b[0m\n\u001b[0m\u001b[1;32m     29\u001b[0m             \u001b[0mresult\u001b[0m \u001b[0;34m=\u001b[0m \u001b[0mself\u001b[0m\u001b[0;34m.\u001b[0m\u001b[0massistant_act\u001b[0m\u001b[0;34m(\u001b[0m\u001b[0;34m)\u001b[0m\u001b[0;34m\u001b[0m\u001b[0;34m\u001b[0m\u001b[0m\n\u001b[1;32m     30\u001b[0m \u001b[0;34m\u001b[0m\u001b[0m\n",
            "\u001b[0;32m<ipython-input-3-7111af33b57e>\u001b[0m in \u001b[0;36muser_act\u001b[0;34m(self, user_input)\u001b[0m\n\u001b[1;32m     38\u001b[0m     \u001b[0;32mdef\u001b[0m \u001b[0muser_act\u001b[0m\u001b[0;34m(\u001b[0m\u001b[0mself\u001b[0m\u001b[0;34m,\u001b[0m \u001b[0muser_input\u001b[0m\u001b[0;34m=\u001b[0m\u001b[0;32mNone\u001b[0m\u001b[0;34m)\u001b[0m\u001b[0;34m:\u001b[0m\u001b[0;34m\u001b[0m\u001b[0;34m\u001b[0m\u001b[0m\n\u001b[1;32m     39\u001b[0m         \u001b[0;32mif\u001b[0m \u001b[0;32mnot\u001b[0m \u001b[0muser_input\u001b[0m\u001b[0;34m:\u001b[0m\u001b[0;34m\u001b[0m\u001b[0;34m\u001b[0m\u001b[0m\n\u001b[0;32m---> 40\u001b[0;31m             \u001b[0muser_input\u001b[0m \u001b[0;34m=\u001b[0m \u001b[0mself\u001b[0m\u001b[0;34m.\u001b[0m\u001b[0mconsole\u001b[0m\u001b[0;34m.\u001b[0m\u001b[0minput\u001b[0m\u001b[0;34m(\u001b[0m\u001b[0;34m)\u001b[0m\u001b[0;34m.\u001b[0m\u001b[0mstrip\u001b[0m\u001b[0;34m(\u001b[0m\u001b[0;34m)\u001b[0m\u001b[0;34m\u001b[0m\u001b[0;34m\u001b[0m\u001b[0m\n\u001b[0m\u001b[1;32m     41\u001b[0m             \u001b[0mself\u001b[0m\u001b[0;34m.\u001b[0m\u001b[0mconsole\u001b[0m\u001b[0;34m.\u001b[0m\u001b[0mprint\u001b[0m\u001b[0;34m(\u001b[0m\u001b[0;34m\"You:\"\u001b[0m\u001b[0;34m,\u001b[0m \u001b[0muser_input\u001b[0m\u001b[0;34m,\u001b[0m \u001b[0msep\u001b[0m\u001b[0;34m=\u001b[0m\u001b[0;34m\"\\n\"\u001b[0m\u001b[0;34m,\u001b[0m \u001b[0mhighlight\u001b[0m\u001b[0;34m=\u001b[0m\u001b[0;32mFalse\u001b[0m\u001b[0;34m)\u001b[0m\u001b[0;34m\u001b[0m\u001b[0;34m\u001b[0m\u001b[0m\n\u001b[1;32m     42\u001b[0m         \u001b[0mself\u001b[0m\u001b[0;34m.\u001b[0m\u001b[0mmessages\u001b[0m\u001b[0;34m.\u001b[0m\u001b[0mappend\u001b[0m\u001b[0;34m(\u001b[0m\u001b[0;34m{\u001b[0m\u001b[0;34m\"role\"\u001b[0m\u001b[0;34m:\u001b[0m \u001b[0;34m\"user\"\u001b[0m\u001b[0;34m,\u001b[0m \u001b[0;34m\"content\"\u001b[0m\u001b[0;34m:\u001b[0m \u001b[0muser_input\u001b[0m\u001b[0;34m}\u001b[0m\u001b[0;34m)\u001b[0m\u001b[0;34m\u001b[0m\u001b[0;34m\u001b[0m\u001b[0m\n",
            "\u001b[0;32m/usr/local/lib/python3.10/dist-packages/rich/console.py\u001b[0m in \u001b[0;36minput\u001b[0;34m(self, prompt, markup, emoji, password, stream)\u001b[0m\n\u001b[1;32m   2121\u001b[0m                 \u001b[0mresult\u001b[0m \u001b[0;34m=\u001b[0m \u001b[0mstream\u001b[0m\u001b[0;34m.\u001b[0m\u001b[0mreadline\u001b[0m\u001b[0;34m(\u001b[0m\u001b[0;34m)\u001b[0m\u001b[0;34m\u001b[0m\u001b[0;34m\u001b[0m\u001b[0m\n\u001b[1;32m   2122\u001b[0m             \u001b[0;32melse\u001b[0m\u001b[0;34m:\u001b[0m\u001b[0;34m\u001b[0m\u001b[0;34m\u001b[0m\u001b[0m\n\u001b[0;32m-> 2123\u001b[0;31m                 \u001b[0mresult\u001b[0m \u001b[0;34m=\u001b[0m \u001b[0minput\u001b[0m\u001b[0;34m(\u001b[0m\u001b[0;34m)\u001b[0m\u001b[0;34m\u001b[0m\u001b[0;34m\u001b[0m\u001b[0m\n\u001b[0m\u001b[1;32m   2124\u001b[0m         \u001b[0;32mreturn\u001b[0m \u001b[0mresult\u001b[0m\u001b[0;34m\u001b[0m\u001b[0;34m\u001b[0m\u001b[0m\n\u001b[1;32m   2125\u001b[0m \u001b[0;34m\u001b[0m\u001b[0m\n",
            "\u001b[0;32m/usr/local/lib/python3.10/dist-packages/ipykernel/kernelbase.py\u001b[0m in \u001b[0;36mraw_input\u001b[0;34m(self, prompt)\u001b[0m\n\u001b[1;32m    849\u001b[0m                 \u001b[0;34m\"raw_input was called, but this frontend does not support input requests.\"\u001b[0m\u001b[0;34m\u001b[0m\u001b[0;34m\u001b[0m\u001b[0m\n\u001b[1;32m    850\u001b[0m             )\n\u001b[0;32m--> 851\u001b[0;31m         return self._input_request(str(prompt),\n\u001b[0m\u001b[1;32m    852\u001b[0m             \u001b[0mself\u001b[0m\u001b[0;34m.\u001b[0m\u001b[0m_parent_ident\u001b[0m\u001b[0;34m,\u001b[0m\u001b[0;34m\u001b[0m\u001b[0;34m\u001b[0m\u001b[0m\n\u001b[1;32m    853\u001b[0m             \u001b[0mself\u001b[0m\u001b[0;34m.\u001b[0m\u001b[0m_parent_header\u001b[0m\u001b[0;34m,\u001b[0m\u001b[0;34m\u001b[0m\u001b[0;34m\u001b[0m\u001b[0m\n",
            "\u001b[0;32m/usr/local/lib/python3.10/dist-packages/ipykernel/kernelbase.py\u001b[0m in \u001b[0;36m_input_request\u001b[0;34m(self, prompt, ident, parent, password)\u001b[0m\n\u001b[1;32m    893\u001b[0m             \u001b[0;32mexcept\u001b[0m \u001b[0mKeyboardInterrupt\u001b[0m\u001b[0;34m:\u001b[0m\u001b[0;34m\u001b[0m\u001b[0;34m\u001b[0m\u001b[0m\n\u001b[1;32m    894\u001b[0m                 \u001b[0;31m# re-raise KeyboardInterrupt, to truncate traceback\u001b[0m\u001b[0;34m\u001b[0m\u001b[0;34m\u001b[0m\u001b[0m\n\u001b[0;32m--> 895\u001b[0;31m                 \u001b[0;32mraise\u001b[0m \u001b[0mKeyboardInterrupt\u001b[0m\u001b[0;34m(\u001b[0m\u001b[0;34m\"Interrupted by user\"\u001b[0m\u001b[0;34m)\u001b[0m \u001b[0;32mfrom\u001b[0m \u001b[0;32mNone\u001b[0m\u001b[0;34m\u001b[0m\u001b[0;34m\u001b[0m\u001b[0m\n\u001b[0m\u001b[1;32m    896\u001b[0m             \u001b[0;32mexcept\u001b[0m \u001b[0mException\u001b[0m \u001b[0;32mas\u001b[0m \u001b[0me\u001b[0m\u001b[0;34m:\u001b[0m\u001b[0;34m\u001b[0m\u001b[0;34m\u001b[0m\u001b[0m\n\u001b[1;32m    897\u001b[0m                 \u001b[0mself\u001b[0m\u001b[0;34m.\u001b[0m\u001b[0mlog\u001b[0m\u001b[0;34m.\u001b[0m\u001b[0mwarning\u001b[0m\u001b[0;34m(\u001b[0m\u001b[0;34m\"Invalid Message:\"\u001b[0m\u001b[0;34m,\u001b[0m \u001b[0mexc_info\u001b[0m\u001b[0;34m=\u001b[0m\u001b[0;32mTrue\u001b[0m\u001b[0;34m)\u001b[0m\u001b[0;34m\u001b[0m\u001b[0;34m\u001b[0m\u001b[0m\n",
            "\u001b[0;31mKeyboardInterrupt\u001b[0m: Interrupted by user"
          ]
        }
      ],
      "source": [
        "ChatGPT(system=system, character=\"Travel Planner\", user_start=False)()"
      ]
    }
  ],
  "metadata": {
    "colab": {
      "collapsed_sections": [
        "Ao_wX6r7qEBh"
      ],
      "provenance": [],
      "include_colab_link": true
    },
    "kernelspec": {
      "display_name": "Python 3",
      "language": "python",
      "name": "python3"
    },
    "language_info": {
      "codemirror_mode": {
        "name": "ipython",
        "version": 3
      },
      "file_extension": ".py",
      "mimetype": "text/x-python",
      "name": "python",
      "nbconvert_exporter": "python",
      "pygments_lexer": "ipython3",
      "version": "3.9.12"
    },
    "orig_nbformat": 4
  },
  "nbformat": 4,
  "nbformat_minor": 0
}